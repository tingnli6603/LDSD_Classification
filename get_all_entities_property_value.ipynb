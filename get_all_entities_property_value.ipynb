{
 "cells": [
  {
   "cell_type": "code",
   "execution_count": 1,
   "metadata": {},
   "outputs": [],
   "source": [
    "import os\n",
    "import requests\n",
    "import re\n",
    "import time"
   ]
  },
  {
   "cell_type": "markdown",
   "metadata": {},
   "source": [
    "### 取得所有entities\n",
    "\n",
    "記得一定要有decode"
   ]
  },
  {
   "cell_type": "code",
   "execution_count": 2,
   "metadata": {
    "scrolled": false
   },
   "outputs": [
    {
     "name": "stdout",
     "output_type": "stream",
     "text": [
      "12552\n"
     ]
    }
   ],
   "source": [
    "all_entities_dict_open = open(\"./all_entities.txt\",\"r\")\n",
    "all_entities_dict = eval(all_entities_dict_open.read())\n",
    "\n",
    "all_entities_list = []\n",
    "\n",
    "for entity in all_entities_dict.keys():\n",
    "    \n",
    "    entity = entity.decode('utf-8')\n",
    "    \n",
    "    all_entities_list.append(entity)\n",
    "    \n",
    "#print(all_entities_list)\n",
    "print(len(all_entities_list))"
   ]
  },
  {
   "cell_type": "markdown",
   "metadata": {},
   "source": [
    "## Value找尋\n",
    "\n",
    "要注意的是value會有編碼上面的問題。"
   ]
  },
  {
   "cell_type": "code",
   "execution_count": 3,
   "metadata": {
    "scrolled": true
   },
   "outputs": [
    {
     "name": "stdout",
     "output_type": "stream",
     "text": [
      "7050 Margaret_Thatcher.txt\n"
     ]
    },
    {
     "ename": "SyntaxError",
     "evalue": "invalid syntax (<string>, line 1)",
     "output_type": "error",
     "traceback": [
      "Traceback \u001b[1;36m(most recent call last)\u001b[0m:\n",
      "  File \u001b[0;32m\"c:\\python37\\lib\\site-packages\\IPython\\core\\interactiveshell.py\"\u001b[0m, line \u001b[0;32m3326\u001b[0m, in \u001b[0;35mrun_code\u001b[0m\n    exec(code_obj, self.user_global_ns, self.user_ns)\n",
      "\u001b[1;36m  File \u001b[1;32m\"<ipython-input-3-79027d6e582a>\"\u001b[1;36m, line \u001b[1;32m41\u001b[1;36m, in \u001b[1;35m<module>\u001b[1;36m\u001b[0m\n\u001b[1;33m    property_result_dict = eval(property_result_json.text)\u001b[0m\n",
      "\u001b[1;36m  File \u001b[1;32m\"<string>\"\u001b[1;36m, line \u001b[1;32m1\u001b[0m\n\u001b[1;33m    Limit per day exceeded\u001b[0m\n\u001b[1;37m            ^\u001b[0m\n\u001b[1;31mSyntaxError\u001b[0m\u001b[1;31m:\u001b[0m invalid syntax\n"
     ]
    }
   ],
   "source": [
    "count = 0\n",
    "\n",
    "#挑選的property\n",
    "property_list = ['dct:subject','gold:hypernym']\n",
    "\n",
    "#不重複做\n",
    "entity_value_name_list = os.listdir(\"./all_entities_property_value\")\n",
    "entity_value_name_list_len = len(entity_value_name_list)\n",
    "\n",
    "for entity_name in all_entities_list:\n",
    "\n",
    "    #先判別file name\n",
    "    if \"/\" in entity_name:\n",
    "        file_name = re.sub(\"/\",\"!~~~!\",entity_name)\n",
    "        file_name = file_name + \".txt\"\n",
    "        \n",
    "    elif \":\" in entity_name:\n",
    "        file_name = re.sub(\":\",\"%~~~%\",entity_name)\n",
    "        file_name = file_name + \".txt\"\n",
    "        \n",
    "    else:\n",
    "        file_name = entity_name + \".txt\"\n",
    "        \n",
    "    if file_name not in entity_value_name_list:\n",
    "        \n",
    "        entity_value_name_list_len+=1\n",
    "        print(entity_value_name_list_len, file_name)\n",
    "\n",
    "        property_value_dict = {}\n",
    "\n",
    "        for property_name in property_list:\n",
    "\n",
    "            #print(property_name)\n",
    "            \n",
    "            #利用服務找到value\n",
    "            url_values = \"http://vmdbpedia.informatik.uni-leipzig.de:8080/api/1.0.0/values\"\n",
    "            my_paramas = {'entities':entity_name, 'property':property_name, 'format':'JSON', 'pretty':'none', 'limit':'1000', 'offset':'0', 'key':'1234', 'oldVersion':'false'}\n",
    "            property_result_json = requests.get(url_values, params = my_paramas)\n",
    "                \n",
    "            #注意編碼\n",
    "            property_result_json.encoding = \"utf-8\"\n",
    "\n",
    "            property_result_dict = eval(property_result_json.text)\n",
    "            \n",
    "            #解析內容\n",
    "            new_property_name = property_result_dict['head']['vars'][1]\n",
    "\n",
    "            property_result_list = property_result_dict['results']['bindings']\n",
    "\n",
    "            value_list = []\n",
    "            for property_result in property_result_list:\n",
    "\n",
    "                #判斷有沒有找到property\n",
    "                if new_property_name in property_result:\n",
    "\n",
    "                    property_value = property_result[new_property_name]['value']\n",
    "\n",
    "                    if property_name == \"dct:subject\":\n",
    "                        re_property_value = re.sub(r\"http://dbpedia.org/resource/Category:\",\"\",property_value)\n",
    "                        re_property_value = re_property_value.encode('utf-8')\n",
    "\n",
    "                    elif property_name == \"gold:hypernym\":\n",
    "                        re_property_value = re.sub(r\"http://dbpedia.org/resource/\",\"\",property_value)\n",
    "                        re_property_value = re_property_value.encode('utf-8')\n",
    "\n",
    "                    value_list.append(re_property_value)\n",
    "\n",
    "            property_value_dict[property_name] = value_list\n",
    "\n",
    "\n",
    "\n",
    "        f = open(\"./all_entities_property_value/\"+file_name,\"w\")\n",
    "        f.write(str(property_value_dict))\n",
    "        f.close()"
   ]
  },
  {
   "cell_type": "code",
   "execution_count": null,
   "metadata": {},
   "outputs": [],
   "source": []
  }
 ],
 "metadata": {
  "kernelspec": {
   "display_name": "Python 3",
   "language": "python",
   "name": "python3"
  },
  "language_info": {
   "codemirror_mode": {
    "name": "ipython",
    "version": 3
   },
   "file_extension": ".py",
   "mimetype": "text/x-python",
   "name": "python",
   "nbconvert_exporter": "python",
   "pygments_lexer": "ipython3",
   "version": "3.8.5"
  }
 },
 "nbformat": 4,
 "nbformat_minor": 2
}
