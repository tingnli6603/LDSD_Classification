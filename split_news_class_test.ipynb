{
 "cells": [
  {
   "cell_type": "markdown",
   "metadata": {},
   "source": [
    "### 切割所有類別內的news分成class與test"
   ]
  },
  {
   "cell_type": "code",
   "execution_count": 2,
   "metadata": {},
   "outputs": [
    {
     "name": "stdout",
     "output_type": "stream",
     "text": [
      "business\n",
      "新聞總數量為: 510\n",
      "類別新聞總數量為: 408\n",
      "測試新聞數量為: 102\n",
      "entertainment\n",
      "新聞總數量為: 386\n",
      "類別新聞總數量為: 308\n",
      "測試新聞數量為: 78\n",
      "politics\n",
      "新聞總數量為: 417\n",
      "類別新聞總數量為: 333\n",
      "測試新聞數量為: 84\n",
      "sport\n",
      "新聞總數量為: 511\n",
      "類別新聞總數量為: 408\n",
      "測試新聞數量為: 103\n",
      "tech\n",
      "新聞總數量為: 401\n",
      "類別新聞總數量為: 320\n",
      "測試新聞數量為: 81\n"
     ]
    }
   ],
   "source": [
    "import os\n",
    "import random\n",
    "\n",
    "\n",
    "class_list = ['business','entertainment','politics','sport','tech']\n",
    "\n",
    "for news_class in class_list:\n",
    "    print(news_class)\n",
    "\n",
    "    news_path = \"./bbc/\"+news_class\n",
    "\n",
    "    #找到這個path底下的所有檔案名稱\n",
    "    news_name_list = os.listdir(news_path)\n",
    "    #print(news_name_list)\n",
    "    #這個資料夾內的新聞數量，用來切割80%與20%\n",
    "    news_name_list_len = len(news_name_list)\n",
    "    print(\"新聞總數量為:\",news_name_list_len)\n",
    "\n",
    "    #每一個新聞類別底下的文本選取，要佔所有文本80%\n",
    "    class_news_len = int(news_name_list_len*0.8)\n",
    "    print(\"類別新聞總數量為:\",class_news_len)\n",
    "\n",
    "\n",
    "    #隨機抽取類別新聞，然後數量是class_news_len，random.sample是不重複隨機挑選\n",
    "    class_news_name_list = random.sample(news_name_list, k=class_news_len)\n",
    "    #print(\"類別新聞為:\",class_news_name_list)\n",
    "    #print(\"類別新聞數量為:\",len(class_news_name_list))\n",
    "\n",
    "    g = open(news_class+\"_class_name_list.txt\",\"w\")\n",
    "    g.write(str(class_news_name_list))\n",
    "    g.close()\n",
    "\n",
    "    test_news_name_list = [news for news in news_name_list if news not in class_news_name_list]\n",
    "\n",
    "    #print(\"測試新聞為:\",test_news_name_list)\n",
    "    print(\"測試新聞數量為:\",len(test_news_name_list))\n",
    "\n",
    "    g = open(news_class+\"_test_name_list.txt\",\"w\")\n",
    "    g.write(str(test_news_name_list))\n",
    "    g.close()"
   ]
  },
  {
   "cell_type": "code",
   "execution_count": null,
   "metadata": {},
   "outputs": [],
   "source": []
  }
 ],
 "metadata": {
  "kernelspec": {
   "display_name": "Python 3",
   "language": "python",
   "name": "python3"
  },
  "language_info": {
   "codemirror_mode": {
    "name": "ipython",
    "version": 3
   },
   "file_extension": ".py",
   "mimetype": "text/x-python",
   "name": "python",
   "nbconvert_exporter": "python",
   "pygments_lexer": "ipython3",
   "version": "3.7.3"
  }
 },
 "nbformat": 4,
 "nbformat_minor": 2
}
