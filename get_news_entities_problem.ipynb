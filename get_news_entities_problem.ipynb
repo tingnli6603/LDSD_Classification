{
 "cells": [
  {
   "cell_type": "markdown",
   "metadata": {},
   "source": [
    "### Spotlight的API一次放入的字串長度不能太長"
   ]
  },
  {
   "cell_type": "code",
   "execution_count": 4,
   "metadata": {
    "scrolled": true
   },
   "outputs": [
    {
     "name": "stdout",
     "output_type": "stream",
     "text": [
      "['Digital_television', 'Emmy_Award', 'Robbie_Williams', 'Siouxsie_Sioux', 'Scissor_Sisters', 'Emmy_Award', 'Glasgow', 'Brit_Awards', 'UK_Singles_Chart', 'Hat_trick', 'Ana_Matronic', 'Joss_Stone', 'Scissor_Sisters', 'Emmy_Award', 'Emmy_Award', 'LP_record', 'Disc_jockey', 'Pop_music', 'Ferdinand_I_of_Austria', 'McFly', 'John_Peel', 'Will_Young', 'Gwen_Stefani', 'Rock_music', 'Emmy_Award', 'Muse_Records', 'Eminem', 'Natasha_Bedingfield', 'I_Feel_Sick', 'Jamelia', 'Hip_hop_music', 'Music_download', 'Toilet', 'PJ_Harvey', 'MTV_Base_(UK_&_Ireland)', 'Amy_Winehouse', 'Birmingham', 'Joss_Stone', 'The_Streets', 'David_Walliams', 'Dwight_Howard', 'Gary_Barlow', 'Little_Britain', 'Robbie_Williams', 'Take_That', 'Matt_Hardy', 'Lucas_Roberts', 'Joy_Division', 'Brit_Awards', 'BBC_Radio_2', 'Will_Young', 'Take_That', 'Kate_Bush', 'Charlie_Chaplin', 'Amazed', 'Pop_music', 'Natasha_Bedingfield', 'Joss_Stone', 'ITV_Channel_Television', 'Joss_Stone', 'Bob_Geldof', 'Brit_Awards', \"Ain't_Nobody\", 'Addicted_to_Love_(song)', 'Chaka_Khan', 'Scissor_Sisters', 'Gospel_music', 'Ferdinand_I_of_Austria', 'Lemar', 'Jamelia', 'BBC', 'McFly', 'Facsimile', 'BBC_Radio_1', 'Ghost_town', 'Fallen_(Evanescence_album)', 'David_McAlmont', 'Buzzcocks', 'The_Specials', 'Happy_Mondays', 'Bohemian_Rhapsody', 'Heaven', 'Pop_music', 'Pop_music', 'Love_Will_Tear_Us_Apart', 'Will_Young', 'Pop_music', 'Rock_music', 'Phil_Collins', 'Will_Young', 'Democracy', 'Will_Young', 'Radio', 'Radio', 'Radio', 'Love_Will_Tear_Us_Apart', 'Joy_Division', 'Wuthering_Heights', 'Robbie_Williams', 'Kate_Bush', 'Robbie_Williams', 'Guy_Chambers', 'Bird', 'Soul_music', 'Hisss', 'Pop_music', 'No_Surprise_(Daughtry_song)', 'Robbie_Williams', 'Will_Young', 'Robbie_Williams', 'Thrash_metal', 'Radio', 'Half_Baked', 'Pop_Idol', 'Classical_conditioning', 'The_Smiths', 'Predictable_(Delta_Goodrem_song)', 'Pulp_magazine', 'Joy_Division', 'Robbie_Williams', 'Emotion', 'No_Doubt', 'Pop_music', 'Nick_Drake', 'Robbie_Williams', 'Second-rate', 'Robbie_Williams', 'Joy_Division', 'Kate_Bush', 'No_Offence', 'Pop_music', 'John_Lennon', 'United_Kingdom', 'Karaoke', 'Music_industry', 'Rock_music', 'DieHard_(brand)', 'All-rounder', 'Brit_Awards', 'Elizabeth_II', 'Kate_Bush', 'David_Bowie', 'Bohemian_Rhapsody', 'Paralanguage', 'Thankful_(Kelly_Clarkson_album)', 'Robbie_Williams', 'Pulp_magazine', 'Oasis', 'Britpop', 'Suede', 'Blur_(band)', 'Mogul_skiing', 'U2', 'Scissor_Sisters', 'Pop_music', 'No_Surprise_(Daughtry_song)', 'Robbie_Williams', 'Joy_Division', 'Will_Young', 'Thankful_(Kelly_Clarkson_album)', 'Nothing_Compares_2_U', 'Bohemian_Rhapsody', 'Public_Eye_(TV_series)']\n"
     ]
    }
   ],
   "source": [
    "import os\n",
    "import requests\n",
    "from bs4 import BeautifulSoup\n",
    "\n",
    "file_path = \"./bbc/entertainment/253.txt\"\n",
    "file_open = open(file_path,\"r\",encoding=\"iso-8859-15\")\n",
    "\n",
    "line = file_open.readline()\n",
    "\n",
    "text_uri_list = []\n",
    "\n",
    "while line:\n",
    "    #print(line)\n",
    "    line = file_open.readline()\n",
    "    \n",
    "    url_word = \"http://192.168.99.100/rest/candidates?text=\"\n",
    "    confnsup_settings = \"&confidence=0.5&support=20\"\n",
    "    response = requests.get(url_word+line+confnsup_settings)\n",
    "    respoense_text = response.text\n",
    "\n",
    "    soup = BeautifulSoup(respoense_text)\n",
    "    part_uri_list = []\n",
    "    for resource in soup.find_all('resource'):\n",
    "\n",
    "        uri_text = resource['uri']\n",
    "        part_uri_list.append(uri_text)\n",
    "        \n",
    "    #print(part_uri_list)\n",
    "    text_uri_list = text_uri_list + part_uri_list\n",
    "    \n",
    "print(text_uri_list)"
   ]
  },
  {
   "cell_type": "code",
   "execution_count": null,
   "metadata": {},
   "outputs": [],
   "source": []
  }
 ],
 "metadata": {
  "kernelspec": {
   "display_name": "Python 3",
   "language": "python",
   "name": "python3"
  },
  "language_info": {
   "codemirror_mode": {
    "name": "ipython",
    "version": 3
   },
   "file_extension": ".py",
   "mimetype": "text/x-python",
   "name": "python",
   "nbconvert_exporter": "python",
   "pygments_lexer": "ipython3",
   "version": "3.7.2"
  }
 },
 "nbformat": 4,
 "nbformat_minor": 2
}
