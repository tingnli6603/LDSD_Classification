{
 "cells": [
  {
   "cell_type": "code",
   "execution_count": 1,
   "metadata": {},
   "outputs": [],
   "source": [
    "import os"
   ]
  },
  {
   "cell_type": "markdown",
   "metadata": {},
   "source": [
    "### 每個類別的筆數"
   ]
  },
  {
   "cell_type": "code",
   "execution_count": 2,
   "metadata": {},
   "outputs": [
    {
     "name": "stdout",
     "output_type": "stream",
     "text": [
      "類別 business 總共有 510 筆\n",
      "類別 entertainment 總共有 386 筆\n",
      "類別 politics 總共有 417 筆\n",
      "類別 sport 總共有 511 筆\n",
      "類別 tech 總共有 401 筆\n",
      "總共有 2225 筆\n"
     ]
    }
   ],
   "source": [
    "class_name_list = ['business','entertainment','politics','sport','tech']\n",
    "\n",
    "all_news_count = 0\n",
    "for class_name in class_name_list:\n",
    "    \n",
    "    class_count = len(os.listdir(\"./all_entities/\"+class_name))\n",
    "    all_news_count = all_news_count + class_count\n",
    "    print(\"類別\", class_name, \"總共有\",class_count,\"筆\")\n",
    "\n",
    "print(\"總共有\",all_news_count,\"筆\")"
   ]
  },
  {
   "cell_type": "markdown",
   "metadata": {},
   "source": [
    "### 每個類別用來當作class的新聞與test的新聞的數量"
   ]
  },
  {
   "cell_type": "code",
   "execution_count": 3,
   "metadata": {},
   "outputs": [
    {
     "name": "stdout",
     "output_type": "stream",
     "text": [
      "類別 business 類別新聞數量: 408 筆，測試新聞數量: 102 筆\n",
      "類別 entertainment 類別新聞數量: 308 筆，測試新聞數量: 78 筆\n",
      "類別 politics 類別新聞數量: 333 筆，測試新聞數量: 84 筆\n",
      "類別 sport 類別新聞數量: 408 筆，測試新聞數量: 103 筆\n",
      "類別 tech 類別新聞數量: 320 筆，測試新聞數量: 81 筆\n"
     ]
    }
   ],
   "source": [
    "class_name_list = ['business','entertainment','politics','sport','tech']\n",
    "\n",
    "for class_name in class_name_list:\n",
    "    f_class_open = open(\"./class_test_news_name_list/\"+class_name+\"_class_name_list.txt\",\"r\",encoding=\"iso-8859-15\")\n",
    "    f_class = eval(f_class_open.read())\n",
    "    f_class_count = len(f_class)\n",
    "    #print(f_class_count)\n",
    "    \n",
    "    f_test_open = open(\"./class_test_news_name_list/\"+class_name+\"_test_name_list.txt\",\"r\",encoding=\"iso-8859-15\")\n",
    "    f_test = eval(f_test_open.read())\n",
    "    f_test_count = len(f_test)\n",
    "    #print(f_test_count)\n",
    "    \n",
    "    print(\"類別\", class_name, \"類別新聞數量:\",f_class_count,\"筆，測試新聞數量:\",f_test_count,\"筆\")"
   ]
  },
  {
   "cell_type": "markdown",
   "metadata": {},
   "source": [
    "### 用來當作類別新聞的entities數量統計"
   ]
  },
  {
   "cell_type": "code",
   "execution_count": 4,
   "metadata": {},
   "outputs": [
    {
     "name": "stdout",
     "output_type": "stream",
     "text": [
      "class name: business 總共有幾個entities: 9497 不重複的entities有幾個: 2510\n",
      "class name: entertainment 總共有幾個entities: 8997 不重複的entities有幾個: 3437\n",
      "class name: politics 總共有幾個entities: 10022 不重複的entities有幾個: 2295\n",
      "class name: sport 總共有幾個entities: 11350 不重複的entities有幾個: 2569\n",
      "class name: tech 總共有幾個entities: 10409 不重複的entities有幾個: 2414\n"
     ]
    }
   ],
   "source": [
    "class_name_list = ['business','entertainment','politics','sport','tech']\n",
    "\n",
    "for class_name in class_name_list:\n",
    "\n",
    "    f = open(\"./class_entities/\"+class_name+\"class_entities.txt\",\"r\",encoding=\"iso-8859-15\")\n",
    "    file = eval(f.read())\n",
    "    \n",
    "    count = 0\n",
    "    for times in file.values():\n",
    "        count = count+times\n",
    "    \n",
    "    print(\"class name:\", class_name, \"總共有幾個entities:\",count, \"不重複的entities有幾個:\", len(file))"
   ]
  },
  {
   "cell_type": "code",
   "execution_count": null,
   "metadata": {},
   "outputs": [],
   "source": []
  }
 ],
 "metadata": {
  "kernelspec": {
   "display_name": "Python 3",
   "language": "python",
   "name": "python3"
  },
  "language_info": {
   "codemirror_mode": {
    "name": "ipython",
    "version": 3
   },
   "file_extension": ".py",
   "mimetype": "text/x-python",
   "name": "python",
   "nbconvert_exporter": "python",
   "pygments_lexer": "ipython3",
   "version": "3.7.2"
  }
 },
 "nbformat": 4,
 "nbformat_minor": 2
}
