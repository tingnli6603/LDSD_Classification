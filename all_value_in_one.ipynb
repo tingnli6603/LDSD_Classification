{
 "cells": [
  {
   "cell_type": "code",
   "execution_count": 1,
   "metadata": {},
   "outputs": [],
   "source": [
    "import os\n",
    "import re"
   ]
  },
  {
   "cell_type": "code",
   "execution_count": 2,
   "metadata": {
    "scrolled": true
   },
   "outputs": [
    {
     "name": "stdout",
     "output_type": "stream",
     "text": [
      "NOC*NSF\n"
     ]
    }
   ],
   "source": [
    "all_value_list = os.listdir(\"./all_entities_property_value\")\n",
    "\n",
    "\n",
    "all_entities_property_value_dict = {}\n",
    "for file_name in all_value_list:\n",
    "    \n",
    "    #print(file_name)\n",
    "    \n",
    "    entity_property_value_open = open(\"./all_entities_property_value/\"+file_name,\"r\")\n",
    "    entity_property_value_dict = eval(entity_property_value_open.read())\n",
    "    \n",
    "    if \"!~~~!\" in file_name:\n",
    "        entity_name = re.sub(\"!~~~!\",\"/\",file_name)\n",
    "        entity_name = entity_name[0:-4]\n",
    "        \n",
    "    elif \"%~~~%\" in file_name:\n",
    "        entity_name = re.sub(\"%~~~%\",\":\",file_name)\n",
    "        entity_name = entity_name[0:-4]\n",
    "    \n",
    "    elif \"@~~~@\" in file_name:\n",
    "        entity_name = re.sub(\"@~~~@\",\"*\",file_name)\n",
    "        entity_name = entity_name[0:-4]\n",
    "        print(entity_name)\n",
    "        \n",
    "    else:\n",
    "        entity_name = file_name[0:-4]\n",
    "        \n",
    "    #print(entity_name)\n",
    "        \n",
    "    encode_entity_name = entity_name.encode('utf-8')\n",
    "    #print(encode_entity_name)\n",
    "    #print(\"\\n\")\n",
    "    \n",
    "    all_entities_property_value_dict[encode_entity_name] = entity_property_value_dict\n",
    "    \n",
    "f = open(\"./all_entities_property_value.txt\",\"w\")\n",
    "f.write(str(all_entities_property_value_dict))\n",
    "f.close()"
   ]
  },
  {
   "cell_type": "code",
   "execution_count": null,
   "metadata": {},
   "outputs": [],
   "source": []
  }
 ],
 "metadata": {
  "kernelspec": {
   "display_name": "Python 3",
   "language": "python",
   "name": "python3"
  },
  "language_info": {
   "codemirror_mode": {
    "name": "ipython",
    "version": 3
   },
   "file_extension": ".py",
   "mimetype": "text/x-python",
   "name": "python",
   "nbconvert_exporter": "python",
   "pygments_lexer": "ipython3",
   "version": "3.7.2"
  }
 },
 "nbformat": 4,
 "nbformat_minor": 2
}
