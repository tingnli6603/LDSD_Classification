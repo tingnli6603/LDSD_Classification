{
 "cells": [
  {
   "cell_type": "code",
   "execution_count": 1,
   "metadata": {},
   "outputs": [],
   "source": [
    "import os"
   ]
  },
  {
   "cell_type": "code",
   "execution_count": 2,
   "metadata": {},
   "outputs": [],
   "source": [
    "topic_name_list = ['business','entertainment','politics','sport','tech']"
   ]
  },
  {
   "cell_type": "code",
   "execution_count": 4,
   "metadata": {},
   "outputs": [
    {
     "name": "stdout",
     "output_type": "stream",
     "text": [
      "business\n",
      "TP: 86 FP: 41 FN: 16 TN: 305\n",
      "Precision: 0.6771653543307087\n",
      "Recall: 0.8431372549019608\n",
      "F1 Score: 0.7510917030567686\n",
      "\n",
      "\n",
      "entertainment\n",
      "TP: 62 FP: 8 FN: 16 TN: 362\n",
      "Precision: 0.8857142857142857\n",
      "Recall: 0.7948717948717948\n",
      "F1 Score: 0.8378378378378378\n",
      "\n",
      "\n",
      "politics\n",
      "TP: 60 FP: 3 FN: 24 TN: 361\n",
      "Precision: 0.9523809523809523\n",
      "Recall: 0.7142857142857143\n",
      "F1 Score: 0.8163265306122448\n",
      "\n",
      "\n",
      "sport\n",
      "TP: 98 FP: 23 FN: 5 TN: 322\n",
      "Precision: 0.8099173553719008\n",
      "Recall: 0.9514563106796117\n",
      "F1 Score: 0.875\n",
      "\n",
      "\n",
      "tech\n",
      "TP: 60 FP: 7 FN: 21 TN: 360\n",
      "Precision: 0.8955223880597015\n",
      "Recall: 0.7407407407407407\n",
      "F1 Score: 0.8108108108108107\n",
      "\n",
      "\n"
     ]
    }
   ],
   "source": [
    "for topic_name in topic_name_list:\n",
    "    print(topic_name)\n",
    "    \n",
    "    answer_dict_open = open(topic_name+\"_answer.txt\",\"r\")\n",
    "    answer_dict = eval(answer_dict_open.read())\n",
    "\n",
    "    predict_dict_open = open(topic_name+\"_predict.txt\",\"r\")\n",
    "    predict_dict = eval(predict_dict_open.read())\n",
    "\n",
    "    tp = 0\n",
    "    fp = 0\n",
    "    fn = 0\n",
    "    tn = 0\n",
    "\n",
    "    for file_name in answer_dict:\n",
    "        if predict_dict[file_name] == 1 and answer_dict[file_name] == 1:\n",
    "            tp +=1\n",
    "        elif predict_dict[file_name] == 1 and answer_dict[file_name] == 0:\n",
    "            fp +=1\n",
    "        elif predict_dict[file_name] == 0 and answer_dict[file_name] == 1:\n",
    "            fn +=1\n",
    "        elif predict_dict[file_name] == 0 and answer_dict[file_name] == 0:\n",
    "            tn +=1\n",
    "\n",
    "    print(\"TP:\",tp,\"FP:\",fp,\"FN:\",fn,\"TN:\",tn)\n",
    "\n",
    "    precision = tp/(tp+fp)\n",
    "    recall = tp/(tp+fn)\n",
    "\n",
    "    print(\"Precision:\",precision)\n",
    "    print(\"Recall:\",recall)\n",
    "\n",
    "    f1 = 2/((1/precision)+(1/recall))\n",
    "    print(\"F1 Score:\", f1)\n",
    "    print(\"\\n\")"
   ]
  },
  {
   "cell_type": "code",
   "execution_count": null,
   "metadata": {},
   "outputs": [],
   "source": []
  }
 ],
 "metadata": {
  "kernelspec": {
   "display_name": "Python 3",
   "language": "python",
   "name": "python3"
  },
  "language_info": {
   "codemirror_mode": {
    "name": "ipython",
    "version": 3
   },
   "file_extension": ".py",
   "mimetype": "text/x-python",
   "name": "python",
   "nbconvert_exporter": "python",
   "pygments_lexer": "ipython3",
   "version": "3.8.5"
  }
 },
 "nbformat": 4,
 "nbformat_minor": 2
}
